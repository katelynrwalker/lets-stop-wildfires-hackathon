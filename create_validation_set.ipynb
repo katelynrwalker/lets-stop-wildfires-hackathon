{
 "cells": [
  {
   "cell_type": "markdown",
   "metadata": {
    "Collapsed": "false"
   },
   "source": [
    "## Create a validation set"
   ]
  },
  {
   "cell_type": "code",
   "execution_count": 2,
   "metadata": {
    "Collapsed": "false"
   },
   "outputs": [],
   "source": [
    "import random\n",
    "import os\n",
    "\n",
    "PATH = 'diff'\n",
    "cats = ['no_smoke', 'smoke']\n",
    "# for cat in cats:\n",
    "#     os.makedirs(f'{PATH}/train/{cat}', exist_ok=True)\n",
    "#     for i in range(0,200):\n",
    "#         !touch '{PATH}/train/{cat}/{cat}-{i}.png'"
   ]
  },
  {
   "cell_type": "code",
   "execution_count": 3,
   "metadata": {
    "Collapsed": "false"
   },
   "outputs": [],
   "source": [
    "def make_val_set(PATH, p):\n",
    "    PATH = PATH if PATH[-1] == '/' else PATH+'/'\n",
    "    cats = os.listdir(f\"{PATH}train\") \n",
    "    for cat in cats: \n",
    "        os.makedirs(f\"{PATH}valid/{cat}\", exist_ok=True)\n",
    "        list_of_files = os.listdir(f\"{PATH}train/{cat}\")\n",
    "        random.shuffle(list_of_files)\n",
    "        n_idxs = int(len(list_of_files)*p)\n",
    "        selected_files = [list_of_files[n] for n in range(n_idxs)]\n",
    "        for file in selected_files:\n",
    "            os.rename(f\"{PATH}train/{cat}/{file}\", f\"{PATH}valid/{cat}/{file}\")"
   ]
  },
  {
   "cell_type": "code",
   "execution_count": null,
   "metadata": {
    "Collapsed": "false"
   },
   "outputs": [],
   "source": [
    "find . -name \"*.DS_Store\" -type f -delete"
   ]
  },
  {
   "cell_type": "code",
   "execution_count": 5,
   "metadata": {
    "Collapsed": "false"
   },
   "outputs": [],
   "source": [
    "make_val_set(PATH, 0.2)"
   ]
  }
 ],
 "metadata": {
  "kernelspec": {
   "display_name": "Python 3",
   "language": "python",
   "name": "python3"
  },
  "language_info": {
   "codemirror_mode": {
    "name": "ipython",
    "version": 3
   },
   "file_extension": ".py",
   "mimetype": "text/x-python",
   "name": "python",
   "nbconvert_exporter": "python",
   "pygments_lexer": "ipython3",
   "version": "3.8.1"
  }
 },
 "nbformat": 4,
 "nbformat_minor": 4
}
