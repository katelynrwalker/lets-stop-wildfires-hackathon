{
 "cells": [
  {
   "cell_type": "markdown",
   "metadata": {
    "Collapsed": "false"
   },
   "source": [
    "# Find combinations of images"
   ]
  },
  {
   "cell_type": "code",
   "execution_count": 1,
   "metadata": {
    "Collapsed": "false"
   },
   "outputs": [],
   "source": [
    "import pandas as pd"
   ]
  },
  {
   "cell_type": "code",
   "execution_count": 2,
   "metadata": {
    "Collapsed": "false"
   },
   "outputs": [],
   "source": [
    "df = pd.read_csv('mapping.csv')"
   ]
  },
  {
   "cell_type": "code",
   "execution_count": 9,
   "metadata": {
    "Collapsed": "false"
   },
   "outputs": [
    {
     "data": {
      "text/html": [
       "<div>\n",
       "<style scoped>\n",
       "    .dataframe tbody tr th:only-of-type {\n",
       "        vertical-align: middle;\n",
       "    }\n",
       "\n",
       "    .dataframe tbody tr th {\n",
       "        vertical-align: top;\n",
       "    }\n",
       "\n",
       "    .dataframe thead th {\n",
       "        text-align: right;\n",
       "    }\n",
       "</style>\n",
       "<table border=\"1\" class=\"dataframe\">\n",
       "  <thead>\n",
       "    <tr style=\"text-align: right;\">\n",
       "      <th></th>\n",
       "      <th>folder</th>\n",
       "      <th>file name</th>\n",
       "      <th>smoke</th>\n",
       "    </tr>\n",
       "  </thead>\n",
       "  <tbody>\n",
       "    <tr>\n",
       "      <th>0</th>\n",
       "      <td>20170625-BBM-bm-n-mobo</td>\n",
       "      <td>1498413993_-02400.jpg</td>\n",
       "      <td>0</td>\n",
       "    </tr>\n",
       "    <tr>\n",
       "      <th>1</th>\n",
       "      <td>20170625-BBM-bm-n-mobo</td>\n",
       "      <td>1498414053_-02340.jpg</td>\n",
       "      <td>0</td>\n",
       "    </tr>\n",
       "    <tr>\n",
       "      <th>2</th>\n",
       "      <td>20170625-BBM-bm-n-mobo</td>\n",
       "      <td>1498414113_-02280.jpg</td>\n",
       "      <td>0</td>\n",
       "    </tr>\n",
       "    <tr>\n",
       "      <th>3</th>\n",
       "      <td>20170625-BBM-bm-n-mobo</td>\n",
       "      <td>1498414173_-02220.jpg</td>\n",
       "      <td>0</td>\n",
       "    </tr>\n",
       "    <tr>\n",
       "      <th>4</th>\n",
       "      <td>20170625-BBM-bm-n-mobo</td>\n",
       "      <td>1498414233_-02160.jpg</td>\n",
       "      <td>0</td>\n",
       "    </tr>\n",
       "  </tbody>\n",
       "</table>\n",
       "</div>"
      ],
      "text/plain": [
       "                   folder              file name  smoke\n",
       "0  20170625-BBM-bm-n-mobo  1498413993_-02400.jpg      0\n",
       "1  20170625-BBM-bm-n-mobo  1498414053_-02340.jpg      0\n",
       "2  20170625-BBM-bm-n-mobo  1498414113_-02280.jpg      0\n",
       "3  20170625-BBM-bm-n-mobo  1498414173_-02220.jpg      0\n",
       "4  20170625-BBM-bm-n-mobo  1498414233_-02160.jpg      0"
      ]
     },
     "execution_count": 9,
     "metadata": {},
     "output_type": "execute_result"
    }
   ],
   "source": [
    "df.head(5)"
   ]
  },
  {
   "cell_type": "code",
   "execution_count": 3,
   "metadata": {
    "Collapsed": "false"
   },
   "outputs": [],
   "source": [
    "def apply_rules(smoke1, smoke2):\n",
    "    if smoke1 == 0 and smoke2 == 0:\n",
    "        return 0\n",
    "    elif smoke1 == 0 and smoke2 == 1:\n",
    "        return 1\n",
    "    elif smoke1 == 1 and smoke2 == 1:\n",
    "        return 1"
   ]
  },
  {
   "cell_type": "code",
   "execution_count": 4,
   "metadata": {
    "Collapsed": "false"
   },
   "outputs": [],
   "source": [
    "def find_combinations_one_camera(df, file_name_col, smoke_col):\n",
    "    new = []\n",
    "    for i in range(0, len(df[file_name_col])):\n",
    "        for j in range(0, len(df[file_name_col])):\n",
    "            new.append(\n",
    "            {\n",
    "                \"image1\": df[file_name_col][i],\n",
    "                \"image2\": df[file_name_col][j],\n",
    "                \"label\": apply_rules(df[smoke_col][i], df[smoke_col][j])\n",
    "            })\n",
    "    return pd.DataFrame(new)"
   ]
  },
  {
   "cell_type": "code",
   "execution_count": 7,
   "metadata": {
    "Collapsed": "false"
   },
   "outputs": [
    {
     "data": {
      "text/html": [
       "<div>\n",
       "<style scoped>\n",
       "    .dataframe tbody tr th:only-of-type {\n",
       "        vertical-align: middle;\n",
       "    }\n",
       "\n",
       "    .dataframe tbody tr th {\n",
       "        vertical-align: top;\n",
       "    }\n",
       "\n",
       "    .dataframe thead th {\n",
       "        text-align: right;\n",
       "    }\n",
       "</style>\n",
       "<table border=\"1\" class=\"dataframe\">\n",
       "  <thead>\n",
       "    <tr style=\"text-align: right;\">\n",
       "      <th></th>\n",
       "      <th>folder</th>\n",
       "      <th>images</th>\n",
       "    </tr>\n",
       "  </thead>\n",
       "  <tbody>\n",
       "    <tr>\n",
       "      <th>0</th>\n",
       "      <td>20170625-BBM-bm-n-mobo</td>\n",
       "      <td>81</td>\n",
       "    </tr>\n",
       "    <tr>\n",
       "      <th>1</th>\n",
       "      <td>20170708-Whittier-syp-n-mobo-c</td>\n",
       "      <td>71</td>\n",
       "    </tr>\n",
       "    <tr>\n",
       "      <th>2</th>\n",
       "      <td>20171207-Lilac-rm-s-mobo</td>\n",
       "      <td>71</td>\n",
       "    </tr>\n",
       "    <tr>\n",
       "      <th>3</th>\n",
       "      <td>20180611-fallbrook-rm-w-mobo-c</td>\n",
       "      <td>77</td>\n",
       "    </tr>\n",
       "    <tr>\n",
       "      <th>4</th>\n",
       "      <td>20180614-Bridle-hp-n-mobo-c</td>\n",
       "      <td>81</td>\n",
       "    </tr>\n",
       "    <tr>\n",
       "      <th>5</th>\n",
       "      <td>20180614-Hope-wc-e-mobo-c</td>\n",
       "      <td>64</td>\n",
       "    </tr>\n",
       "    <tr>\n",
       "      <th>6</th>\n",
       "      <td>20180704-Benton-hp-n-mobo-c</td>\n",
       "      <td>61</td>\n",
       "    </tr>\n",
       "    <tr>\n",
       "      <th>7</th>\n",
       "      <td>20180706-West-lp-n-mobo-c</td>\n",
       "      <td>81</td>\n",
       "    </tr>\n",
       "    <tr>\n",
       "      <th>8</th>\n",
       "      <td>20180725-Cranston-hp-n-mobo-c</td>\n",
       "      <td>67</td>\n",
       "    </tr>\n",
       "    <tr>\n",
       "      <th>9</th>\n",
       "      <td>20190529-94Fire-lp-s-mobo-c</td>\n",
       "      <td>64</td>\n",
       "    </tr>\n",
       "    <tr>\n",
       "      <th>10</th>\n",
       "      <td>20190712-RockHouse-wc-e-mobo-c</td>\n",
       "      <td>79</td>\n",
       "    </tr>\n",
       "    <tr>\n",
       "      <th>11</th>\n",
       "      <td>20190714-MLOSouth-lo-s-mobo-c</td>\n",
       "      <td>81</td>\n",
       "    </tr>\n",
       "    <tr>\n",
       "      <th>12</th>\n",
       "      <td>20190714-PinosSouth-pi-s-mobo-c</td>\n",
       "      <td>74</td>\n",
       "    </tr>\n",
       "    <tr>\n",
       "      <th>13</th>\n",
       "      <td>20190715-MLOSouth2-lo-s-mobo-c</td>\n",
       "      <td>78</td>\n",
       "    </tr>\n",
       "    <tr>\n",
       "      <th>14</th>\n",
       "      <td>20190715-MLOSouth3-lo-s-mobo-c</td>\n",
       "      <td>68</td>\n",
       "    </tr>\n",
       "    <tr>\n",
       "      <th>15</th>\n",
       "      <td>20190801-Caliente-om-w-mobo</td>\n",
       "      <td>81</td>\n",
       "    </tr>\n",
       "    <tr>\n",
       "      <th>16</th>\n",
       "      <td>20190803-OtaySouth-om-s-mobo</td>\n",
       "      <td>79</td>\n",
       "    </tr>\n",
       "    <tr>\n",
       "      <th>17</th>\n",
       "      <td>20190813-Topanga-69bravo-n-mobo</td>\n",
       "      <td>81</td>\n",
       "    </tr>\n",
       "    <tr>\n",
       "      <th>18</th>\n",
       "      <td>20191018-wilson-w-mobo-c</td>\n",
       "      <td>155</td>\n",
       "    </tr>\n",
       "    <tr>\n",
       "      <th>19</th>\n",
       "      <td>20191023-starr-n-mobo-c</td>\n",
       "      <td>180</td>\n",
       "    </tr>\n",
       "    <tr>\n",
       "      <th>20</th>\n",
       "      <td>20191101-bh-e-mobo-c</td>\n",
       "      <td>180</td>\n",
       "    </tr>\n",
       "    <tr>\n",
       "      <th>21</th>\n",
       "      <td>20191101-bm-e-mobo-c</td>\n",
       "      <td>180</td>\n",
       "    </tr>\n",
       "    <tr>\n",
       "      <th>22</th>\n",
       "      <td>20191102-bm-e-mobo-c-2</td>\n",
       "      <td>180</td>\n",
       "    </tr>\n",
       "  </tbody>\n",
       "</table>\n",
       "</div>"
      ],
      "text/plain": [
       "                             folder  images\n",
       "0            20170625-BBM-bm-n-mobo      81\n",
       "1    20170708-Whittier-syp-n-mobo-c      71\n",
       "2          20171207-Lilac-rm-s-mobo      71\n",
       "3    20180611-fallbrook-rm-w-mobo-c      77\n",
       "4       20180614-Bridle-hp-n-mobo-c      81\n",
       "5         20180614-Hope-wc-e-mobo-c      64\n",
       "6       20180704-Benton-hp-n-mobo-c      61\n",
       "7         20180706-West-lp-n-mobo-c      81\n",
       "8     20180725-Cranston-hp-n-mobo-c      67\n",
       "9       20190529-94Fire-lp-s-mobo-c      64\n",
       "10   20190712-RockHouse-wc-e-mobo-c      79\n",
       "11    20190714-MLOSouth-lo-s-mobo-c      81\n",
       "12  20190714-PinosSouth-pi-s-mobo-c      74\n",
       "13   20190715-MLOSouth2-lo-s-mobo-c      78\n",
       "14   20190715-MLOSouth3-lo-s-mobo-c      68\n",
       "15      20190801-Caliente-om-w-mobo      81\n",
       "16     20190803-OtaySouth-om-s-mobo      79\n",
       "17  20190813-Topanga-69bravo-n-mobo      81\n",
       "18         20191018-wilson-w-mobo-c     155\n",
       "19          20191023-starr-n-mobo-c     180\n",
       "20             20191101-bh-e-mobo-c     180\n",
       "21             20191101-bm-e-mobo-c     180\n",
       "22           20191102-bm-e-mobo-c-2     180"
      ]
     },
     "execution_count": 7,
     "metadata": {},
     "output_type": "execute_result"
    }
   ],
   "source": [
    "camera = df.groupby('folder')['file name'].count().reset_index(name='images')\n",
    "camera"
   ]
  },
  {
   "cell_type": "code",
   "execution_count": 8,
   "metadata": {
    "Collapsed": "false"
   },
   "outputs": [],
   "source": [
    "final = pd.DataFrame()\n",
    "for i in range(0, len(camera['folder'])):\n",
    "    filtered = df[df['folder'] == camera['folder'][i]].reset_index()\n",
    "    combinations = find_combinations_one_camera(filtered, 'file name', 'smoke')\n",
    "    final = pd.concat([final, combinations], ignore_index=True)"
   ]
  },
  {
   "cell_type": "code",
   "execution_count": 10,
   "metadata": {
    "Collapsed": "false"
   },
   "outputs": [
    {
     "data": {
      "text/plain": [
       "image1        0\n",
       "image2        0\n",
       "label     23043\n",
       "dtype: int64"
      ]
     },
     "execution_count": 10,
     "metadata": {},
     "output_type": "execute_result"
    }
   ],
   "source": [
    "final.isnull().sum()"
   ]
  },
  {
   "cell_type": "markdown",
   "metadata": {
    "Collapsed": "false"
   },
   "source": [
    "What should we do with the combination smoke(t) and no_smoke(t-1) ?  \n",
    "We have 23043 labels with this case.\n",
    "\n",
    "For now, I remove these cases from our database."
   ]
  },
  {
   "cell_type": "code",
   "execution_count": 11,
   "metadata": {
    "Collapsed": "false"
   },
   "outputs": [],
   "source": [
    "final.dropna(inplace=True)"
   ]
  },
  {
   "cell_type": "code",
   "execution_count": 42,
   "metadata": {
    "Collapsed": "false"
   },
   "outputs": [
    {
     "data": {
      "text/plain": [
       "image1    0\n",
       "image2    0\n",
       "label     0\n",
       "dtype: int64"
      ]
     },
     "execution_count": 42,
     "metadata": {},
     "output_type": "execute_result"
    }
   ],
   "source": [
    "final.isnull().sum()"
   ]
  },
  {
   "cell_type": "code",
   "execution_count": 43,
   "metadata": {
    "Collapsed": "false"
   },
   "outputs": [
    {
     "data": {
      "text/html": [
       "<div>\n",
       "<style scoped>\n",
       "    .dataframe tbody tr th:only-of-type {\n",
       "        vertical-align: middle;\n",
       "    }\n",
       "\n",
       "    .dataframe tbody tr th {\n",
       "        vertical-align: top;\n",
       "    }\n",
       "\n",
       "    .dataframe thead th {\n",
       "        text-align: right;\n",
       "    }\n",
       "</style>\n",
       "<table border=\"1\" class=\"dataframe\">\n",
       "  <thead>\n",
       "    <tr style=\"text-align: right;\">\n",
       "      <th></th>\n",
       "      <th>image1</th>\n",
       "      <th>image2</th>\n",
       "    </tr>\n",
       "    <tr>\n",
       "      <th>label</th>\n",
       "      <th></th>\n",
       "      <th></th>\n",
       "    </tr>\n",
       "  </thead>\n",
       "  <tbody>\n",
       "    <tr>\n",
       "      <th>0</th>\n",
       "      <td>177421</td>\n",
       "      <td>177421</td>\n",
       "    </tr>\n",
       "    <tr>\n",
       "      <th>1</th>\n",
       "      <td>53606</td>\n",
       "      <td>53606</td>\n",
       "    </tr>\n",
       "  </tbody>\n",
       "</table>\n",
       "</div>"
      ],
      "text/plain": [
       "       image1  image2\n",
       "label                \n",
       "0      177421  177421\n",
       "1       53606   53606"
      ]
     },
     "execution_count": 43,
     "metadata": {},
     "output_type": "execute_result"
    }
   ],
   "source": [
    "final.groupby('label').count()"
   ]
  },
  {
   "cell_type": "code",
   "execution_count": 17,
   "metadata": {
    "Collapsed": "false"
   },
   "outputs": [],
   "source": [
    "final['label'] = final['label'].astype('int32')"
   ]
  },
  {
   "cell_type": "code",
   "execution_count": 30,
   "metadata": {
    "Collapsed": "false"
   },
   "outputs": [],
   "source": [
    "final.reset_index(inplace=True)"
   ]
  },
  {
   "cell_type": "code",
   "execution_count": 40,
   "metadata": {
    "Collapsed": "false"
   },
   "outputs": [
    {
     "data": {
      "text/html": [
       "<div>\n",
       "<style scoped>\n",
       "    .dataframe tbody tr th:only-of-type {\n",
       "        vertical-align: middle;\n",
       "    }\n",
       "\n",
       "    .dataframe tbody tr th {\n",
       "        vertical-align: top;\n",
       "    }\n",
       "\n",
       "    .dataframe thead th {\n",
       "        text-align: right;\n",
       "    }\n",
       "</style>\n",
       "<table border=\"1\" class=\"dataframe\">\n",
       "  <thead>\n",
       "    <tr style=\"text-align: right;\">\n",
       "      <th></th>\n",
       "      <th>image1</th>\n",
       "      <th>image2</th>\n",
       "      <th>label</th>\n",
       "    </tr>\n",
       "  </thead>\n",
       "  <tbody>\n",
       "    <tr>\n",
       "      <th>0</th>\n",
       "      <td>1498413993_-02400.jpg</td>\n",
       "      <td>1498413993_-02400.jpg</td>\n",
       "      <td>0</td>\n",
       "    </tr>\n",
       "    <tr>\n",
       "      <th>1</th>\n",
       "      <td>1498413993_-02400.jpg</td>\n",
       "      <td>1498414053_-02340.jpg</td>\n",
       "      <td>0</td>\n",
       "    </tr>\n",
       "    <tr>\n",
       "      <th>2</th>\n",
       "      <td>1498413993_-02400.jpg</td>\n",
       "      <td>1498414113_-02280.jpg</td>\n",
       "      <td>0</td>\n",
       "    </tr>\n",
       "    <tr>\n",
       "      <th>3</th>\n",
       "      <td>1498413993_-02400.jpg</td>\n",
       "      <td>1498414173_-02220.jpg</td>\n",
       "      <td>0</td>\n",
       "    </tr>\n",
       "    <tr>\n",
       "      <th>4</th>\n",
       "      <td>1498413993_-02400.jpg</td>\n",
       "      <td>1498414233_-02160.jpg</td>\n",
       "      <td>0</td>\n",
       "    </tr>\n",
       "    <tr>\n",
       "      <th>...</th>\n",
       "      <td>...</td>\n",
       "      <td>...</td>\n",
       "      <td>...</td>\n",
       "    </tr>\n",
       "    <tr>\n",
       "      <th>231022</th>\n",
       "      <td>1572721175.jpg</td>\n",
       "      <td>1572720935.jpg</td>\n",
       "      <td>0</td>\n",
       "    </tr>\n",
       "    <tr>\n",
       "      <th>231023</th>\n",
       "      <td>1572721175.jpg</td>\n",
       "      <td>1572720995.jpg</td>\n",
       "      <td>0</td>\n",
       "    </tr>\n",
       "    <tr>\n",
       "      <th>231024</th>\n",
       "      <td>1572721175.jpg</td>\n",
       "      <td>1572721055.jpg</td>\n",
       "      <td>0</td>\n",
       "    </tr>\n",
       "    <tr>\n",
       "      <th>231025</th>\n",
       "      <td>1572721175.jpg</td>\n",
       "      <td>1572721115.jpg</td>\n",
       "      <td>0</td>\n",
       "    </tr>\n",
       "    <tr>\n",
       "      <th>231026</th>\n",
       "      <td>1572721175.jpg</td>\n",
       "      <td>1572721175.jpg</td>\n",
       "      <td>0</td>\n",
       "    </tr>\n",
       "  </tbody>\n",
       "</table>\n",
       "<p>231027 rows × 3 columns</p>\n",
       "</div>"
      ],
      "text/plain": [
       "                       image1                 image2  label\n",
       "0       1498413993_-02400.jpg  1498413993_-02400.jpg      0\n",
       "1       1498413993_-02400.jpg  1498414053_-02340.jpg      0\n",
       "2       1498413993_-02400.jpg  1498414113_-02280.jpg      0\n",
       "3       1498413993_-02400.jpg  1498414173_-02220.jpg      0\n",
       "4       1498413993_-02400.jpg  1498414233_-02160.jpg      0\n",
       "...                       ...                    ...    ...\n",
       "231022         1572721175.jpg         1572720935.jpg      0\n",
       "231023         1572721175.jpg         1572720995.jpg      0\n",
       "231024         1572721175.jpg         1572721055.jpg      0\n",
       "231025         1572721175.jpg         1572721115.jpg      0\n",
       "231026         1572721175.jpg         1572721175.jpg      0\n",
       "\n",
       "[231027 rows x 3 columns]"
      ]
     },
     "execution_count": 40,
     "metadata": {},
     "output_type": "execute_result"
    }
   ],
   "source": [
    "final"
   ]
  },
  {
   "cell_type": "code",
   "execution_count": 41,
   "metadata": {
    "Collapsed": "false"
   },
   "outputs": [],
   "source": [
    "final.to_csv('combinations.csv')"
   ]
  }
 ],
 "metadata": {
  "kernelspec": {
   "display_name": "Python 3",
   "language": "python",
   "name": "python3"
  },
  "language_info": {
   "codemirror_mode": {
    "name": "ipython",
    "version": 3
   },
   "file_extension": ".py",
   "mimetype": "text/x-python",
   "name": "python",
   "nbconvert_exporter": "python",
   "pygments_lexer": "ipython3",
   "version": "3.7.3"
  }
 },
 "nbformat": 4,
 "nbformat_minor": 4
}
