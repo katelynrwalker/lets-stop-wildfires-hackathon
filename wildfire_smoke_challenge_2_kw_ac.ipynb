{
 "cells": [
  {
   "cell_type": "markdown",
   "metadata": {
    "colab_type": "text",
    "id": "view-in-github"
   },
   "source": [
    "<a href=\"https://colab.research.google.com/github/willschuerman/lets-stop-wildfires-hackathon/blob/will/wildfire_smoke_challenge_1A.ipynb\" target=\"_parent\"><img src=\"https://colab.research.google.com/assets/colab-badge.svg\" alt=\"Open In Colab\"/></a>"
   ]
  },
  {
   "cell_type": "code",
   "execution_count": 1,
   "metadata": {
    "colab": {
     "base_uri": "https://localhost:8080/",
     "height": 511
    },
    "colab_type": "code",
    "id": "LqDxppaoB-NQ",
    "outputId": "0e35c3e4-d1c8-44d7-eb02-8a26f99e60fe"
   },
   "outputs": [],
   "source": [
    "%reload_ext autoreload\n",
    "%autoreload 2\n",
    "%matplotlib inline"
   ]
  },
  {
   "cell_type": "code",
   "execution_count": 13,
   "metadata": {
    "colab": {},
    "colab_type": "code",
    "id": "o2OqRcgYFAx2"
   },
   "outputs": [],
   "source": [
    "import tarfile\n",
    "import pandas as pd\n",
    "import os\n",
    "from os import listdir\n",
    "import numpy as np\n",
    "import glob\n",
    "from datetime import datetime\n",
    "from PIL import Image\n",
    "import matplotlib.pyplot as plt"
   ]
  },
  {
   "cell_type": "code",
   "execution_count": 4,
   "metadata": {
    "colab": {},
    "colab_type": "code",
    "id": "LvOZ2Ldse1W_"
   },
   "outputs": [],
   "source": [
    "def listdir_nohidden(path):\n",
    "    return glob.glob(os.path.join(path, '*'))"
   ]
  },
  {
   "cell_type": "markdown",
   "metadata": {
    "colab_type": "text",
    "id": "DeIjvucJTfFF"
   },
   "source": [
    "#2. Generate CSV with info about images"
   ]
  },
  {
   "cell_type": "code",
   "execution_count": 104,
   "metadata": {},
   "outputs": [],
   "source": [
    "# Define datapath\n",
    "camera_folders = listdir_nohidden('../data/train_data_set')\n",
    "\n",
    "# Load file paths into dataframe\n",
    "all_images = []\n",
    "for camera_folder in camera_folders:\n",
    "    image_fpaths = listdir_nohidden(camera_folder)\n",
    "    all_images+=image_fpaths\n",
    "\n",
    "d = {'fPath':all_images}\n",
    "image_info = pd.DataFrame(d)\n",
    "image_info['camera_name'] = image_info['fPath'].str.split('/',expand = True)[3]\n",
    "image_info['fName'] = image_info['fPath'].str.split('/',expand = True)[4]\n",
    "image_info['isSmoke'] = np.where(image_info['fName'].str.contains('\\+'), 1, 0)"
   ]
  },
  {
   "cell_type": "code",
   "execution_count": 106,
   "metadata": {
    "colab": {
     "base_uri": "https://localhost:8080/",
     "height": 204
    },
    "colab_type": "code",
    "id": "pWAEJwSPnu06",
    "outputId": "4a233c96-8fde-4143-8ad9-6310b572e21b"
   },
   "outputs": [],
   "source": [
    "# mark image in which smoke first appears\n",
    "first_smoke_images = ['1498416633_+00240.jpg',\n",
    "'1499546383_+00120.jpg',\n",
    "'1512674164_+00180.jpg',\n",
    "'1528757466_+00060.jpg',\n",
    "'1529020885_+00180.jpg',\n",
    "'1529001020_+00060.jpg',\n",
    "'1530739165_+00120.jpg',\n",
    "'1532544985_+00060.jpg',\n",
    "'1530901921_+00240.jpg',\n",
    "'1559167445_+00060.jpg',\n",
    "'1562959460_+00119.jpg',\n",
    "'1563135083_+00060.jpg',\n",
    "'1563122707_+00120.jpg',\n",
    "'1563220703_-02100.jpg',\n",
    "'1563228743_+01620.jpg',\n",
    "'1564685261_+00060.jpg',\n",
    "'1564869279_+00060.jpg',\n",
    "'1565731242_+00000.jpg'] # easier than importing from a separate CSV file\n",
    "\n",
    "# mark image in which smoke first appears\n",
    "image_info['firstSmoke'] = np.where(image_info.fName.isin(first_smoke_images), 1, 0)"
   ]
  },
  {
   "cell_type": "code",
   "execution_count": 113,
   "metadata": {},
   "outputs": [
    {
     "data": {
      "text/html": [
       "<div>\n",
       "<style scoped>\n",
       "    .dataframe tbody tr th:only-of-type {\n",
       "        vertical-align: middle;\n",
       "    }\n",
       "\n",
       "    .dataframe tbody tr th {\n",
       "        vertical-align: top;\n",
       "    }\n",
       "\n",
       "    .dataframe thead th {\n",
       "        text-align: right;\n",
       "    }\n",
       "</style>\n",
       "<table border=\"1\" class=\"dataframe\">\n",
       "  <thead>\n",
       "    <tr style=\"text-align: right;\">\n",
       "      <th></th>\n",
       "      <th>fPath</th>\n",
       "      <th>camera_name</th>\n",
       "      <th>fName</th>\n",
       "      <th>isSmoke</th>\n",
       "      <th>firstSmoke</th>\n",
       "      <th>unixTime</th>\n",
       "      <th>dateTime</th>\n",
       "    </tr>\n",
       "  </thead>\n",
       "  <tbody>\n",
       "    <tr>\n",
       "      <th>0</th>\n",
       "      <td>../data/train_data_set/20170625-BBM-bm-n-mobo/...</td>\n",
       "      <td>20170625-BBM-bm-n-mobo</td>\n",
       "      <td>1498413993_-02400.jpg</td>\n",
       "      <td>0</td>\n",
       "      <td>0</td>\n",
       "      <td>1498413993</td>\n",
       "      <td>2017-06-25 18:06:33</td>\n",
       "    </tr>\n",
       "    <tr>\n",
       "      <th>1</th>\n",
       "      <td>../data/train_data_set/20170625-BBM-bm-n-mobo/...</td>\n",
       "      <td>20170625-BBM-bm-n-mobo</td>\n",
       "      <td>1498414053_-02340.jpg</td>\n",
       "      <td>0</td>\n",
       "      <td>0</td>\n",
       "      <td>1498414053</td>\n",
       "      <td>2017-06-25 18:07:33</td>\n",
       "    </tr>\n",
       "    <tr>\n",
       "      <th>2</th>\n",
       "      <td>../data/train_data_set/20170625-BBM-bm-n-mobo/...</td>\n",
       "      <td>20170625-BBM-bm-n-mobo</td>\n",
       "      <td>1498414113_-02280.jpg</td>\n",
       "      <td>0</td>\n",
       "      <td>0</td>\n",
       "      <td>1498414113</td>\n",
       "      <td>2017-06-25 18:08:33</td>\n",
       "    </tr>\n",
       "    <tr>\n",
       "      <th>3</th>\n",
       "      <td>../data/train_data_set/20170625-BBM-bm-n-mobo/...</td>\n",
       "      <td>20170625-BBM-bm-n-mobo</td>\n",
       "      <td>1498414173_-02220.jpg</td>\n",
       "      <td>0</td>\n",
       "      <td>0</td>\n",
       "      <td>1498414173</td>\n",
       "      <td>2017-06-25 18:09:33</td>\n",
       "    </tr>\n",
       "    <tr>\n",
       "      <th>4</th>\n",
       "      <td>../data/train_data_set/20170625-BBM-bm-n-mobo/...</td>\n",
       "      <td>20170625-BBM-bm-n-mobo</td>\n",
       "      <td>1498414233_-02160.jpg</td>\n",
       "      <td>0</td>\n",
       "      <td>0</td>\n",
       "      <td>1498414233</td>\n",
       "      <td>2017-06-25 18:10:33</td>\n",
       "    </tr>\n",
       "  </tbody>\n",
       "</table>\n",
       "</div>"
      ],
      "text/plain": [
       "                                               fPath             camera_name  \\\n",
       "0  ../data/train_data_set/20170625-BBM-bm-n-mobo/...  20170625-BBM-bm-n-mobo   \n",
       "1  ../data/train_data_set/20170625-BBM-bm-n-mobo/...  20170625-BBM-bm-n-mobo   \n",
       "2  ../data/train_data_set/20170625-BBM-bm-n-mobo/...  20170625-BBM-bm-n-mobo   \n",
       "3  ../data/train_data_set/20170625-BBM-bm-n-mobo/...  20170625-BBM-bm-n-mobo   \n",
       "4  ../data/train_data_set/20170625-BBM-bm-n-mobo/...  20170625-BBM-bm-n-mobo   \n",
       "\n",
       "                   fName  isSmoke  firstSmoke    unixTime            dateTime  \n",
       "0  1498413993_-02400.jpg        0           0  1498413993 2017-06-25 18:06:33  \n",
       "1  1498414053_-02340.jpg        0           0  1498414053 2017-06-25 18:07:33  \n",
       "2  1498414113_-02280.jpg        0           0  1498414113 2017-06-25 18:08:33  \n",
       "3  1498414173_-02220.jpg        0           0  1498414173 2017-06-25 18:09:33  \n",
       "4  1498414233_-02160.jpg        0           0  1498414233 2017-06-25 18:10:33  "
      ]
     },
     "execution_count": 113,
     "metadata": {},
     "output_type": "execute_result"
    }
   ],
   "source": [
    "# add in time info\n",
    "image_info['unixTime'] = image_info['fName'].str[0:10].astype(int)\n",
    "\n",
    "image_info['dateTime'] = pd.to_datetime(image_info['unixTime'],unit='s')\n",
    "image_info = image_info.sort_values(by=['camera_name','unixTime'])\n",
    "\n",
    "# fix the index after sorting and concatenating\n",
    "image_info.index = pd.RangeIndex(len(image_info.index)) \n",
    "image_info.head()"
   ]
  },
  {
   "cell_type": "code",
   "execution_count": 150,
   "metadata": {},
   "outputs": [
    {
     "name": "stdout",
     "output_type": "stream",
     "text": [
      "Starting camera: 20170625-BBM-bm-n-mobo\n",
      "Finding camera pairs\n",
      "Starting camera: 20170708-Whittier-syp-n-mobo-c\n",
      "Finding camera pairs\n",
      "Starting camera: 20171207-Lilac-rm-s-mobo\n"
     ]
    },
    {
     "name": "stderr",
     "output_type": "stream",
     "text": [
      "/anaconda3/lib/python3.6/site-packages/ipykernel_launcher.py:7: SettingWithCopyWarning: \n",
      "A value is trying to be set on a copy of a slice from a DataFrame\n",
      "\n",
      "See the caveats in the documentation: http://pandas.pydata.org/pandas-docs/stable/indexing.html#indexing-view-versus-copy\n",
      "  import sys\n"
     ]
    },
    {
     "name": "stdout",
     "output_type": "stream",
     "text": [
      "Finding camera pairs\n",
      "Starting camera: 20180611-fallbrook-rm-w-mobo-c\n",
      "Finding camera pairs\n",
      "Starting camera: 20180614-Bridle-hp-n-mobo-c\n",
      "Finding camera pairs\n",
      "Starting camera: 20180614-Hope-wc-e-mobo-c\n",
      "Finding camera pairs\n",
      "Starting camera: 20180704-Benton-hp-n-mobo-c\n",
      "Finding camera pairs\n",
      "Starting camera: 20180706-West-lp-n-mobo-c\n",
      "Finding camera pairs\n",
      "Starting camera: 20180725-Cranston-hp-n-mobo-c\n",
      "Finding camera pairs\n",
      "Starting camera: 20190529-94Fire-lp-s-mobo-c\n",
      "Finding camera pairs\n",
      "Starting camera: 20190712-RockHouse-wc-e-mobo-c\n",
      "Finding camera pairs\n",
      "Starting camera: 20190714-MLOSouth-lo-s-mobo-c\n",
      "Finding camera pairs\n",
      "Starting camera: 20190714-PinosSouth-pi-s-mobo-c\n",
      "Finding camera pairs\n",
      "Starting camera: 20190715-MLOSouth2-lo-s-mobo-c\n",
      "Finding camera pairs\n",
      "Starting camera: 20190715-MLOSouth3-lo-s-mobo-c\n",
      "Finding camera pairs\n",
      "Starting camera: 20190801-Caliente-om-w-mobo\n",
      "Finding camera pairs\n",
      "Starting camera: 20190803-OtaySouth-om-s-mobo\n",
      "Finding camera pairs\n",
      "Starting camera: 20190813-Topanga-69bravo-n-mobo\n",
      "Finding camera pairs\n",
      "Starting camera: 20191018-wilson-w-mobo-c \n",
      "Finding camera pairs\n",
      "Starting camera: 20191023-starr-n-mobo-c \n",
      "Finding camera pairs\n",
      "Starting camera: 20191101-bh-e-mobo-c\n",
      "Finding camera pairs\n",
      "Starting camera: 20191101-bm-e-mobo-c\n",
      "Finding camera pairs\n",
      "Starting camera: 20191102-bm-e-mobo-c-2 \n",
      "Finding camera pairs\n"
     ]
    }
   ],
   "source": [
    "camera_names = list(image_info.camera_name.unique())\n",
    "test_cameras = [\"20190529-94Fire-lp-s-mobo-c\", \"20191102-bm-e-mobo-c-2 \",\"20180614-Bridle-hp-n-mobo-c\"]\n",
    "all_pairs = []\n",
    "for camera in camera_names:\n",
    "    print('Starting camera: {}'.format(camera))\n",
    "    image_df = image_info[image_info['camera_name']==camera]\n",
    "    image_df.sort_values(by='unixTime',inplace=True)\n",
    "    image_df.reset_index(inplace=True)\n",
    "    camera_pairs = []\n",
    "    print('Finding camera pairs')\n",
    "    label = 0\n",
    "    for index in range(len(image_df)-1):\n",
    "        if image_df.loc[index+1]['firstSmoke']:\n",
    "            label = 1\n",
    "        test_label = camera in test_cameras\n",
    "        camera_pairs.append([image_df.loc[index]['fPath'],image_df.loc[index+1]['fPath'],label,test_label])\n",
    "    all_pairs+=camera_pairs"
   ]
  },
  {
   "cell_type": "code",
   "execution_count": 151,
   "metadata": {},
   "outputs": [],
   "source": [
    "pairs_df = pd.DataFrame(all_pairs, columns=['fPath1','fPath2','label','test_label'])"
   ]
  },
  {
   "cell_type": "code",
   "execution_count": 154,
   "metadata": {},
   "outputs": [],
   "source": [
    "pairs_df.to_csv('smoke_pairs.csv')"
   ]
  },
  {
   "cell_type": "code",
   "execution_count": null,
   "metadata": {},
   "outputs": [],
   "source": []
  },
  {
   "cell_type": "code",
   "execution_count": null,
   "metadata": {},
   "outputs": [],
   "source": []
  },
  {
   "cell_type": "code",
   "execution_count": null,
   "metadata": {},
   "outputs": [],
   "source": []
  }
 ],
 "metadata": {
  "colab": {
   "authorship_tag": "ABX9TyNUiZUdgzAsT1VzVwMSQZrC",
   "collapsed_sections": [],
   "include_colab_link": true,
   "name": "wildfire_smoke_challenge_1A.ipynb",
   "provenance": []
  },
  "kernelspec": {
   "display_name": "Python 3",
   "language": "python",
   "name": "python3"
  },
  "language_info": {
   "codemirror_mode": {
    "name": "ipython",
    "version": 3
   },
   "file_extension": ".py",
   "mimetype": "text/x-python",
   "name": "python",
   "nbconvert_exporter": "python",
   "pygments_lexer": "ipython3",
   "version": "3.6.6"
  }
 },
 "nbformat": 4,
 "nbformat_minor": 2
}
